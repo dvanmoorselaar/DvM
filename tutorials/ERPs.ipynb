{
 "cells": [
  {
   "cell_type": "markdown",
   "metadata": {},
   "source": [
    "### EEG analysis - Event-Related Potentials (ERPs)\n",
    "This tutorial shows how to perform standard ERP analyses in A3E. "
   ]
  },
  {
   "cell_type": "code",
   "execution_count": 24,
   "metadata": {},
   "outputs": [
    {
     "name": "stdout",
     "output_type": "stream",
     "text": [
      "Reading /Volumes/shares/FGB-ETP-DVM/dvm_projects/dist_decode/processed/subject-1_ses-1_main-epo.fif ...\n",
      "    Found the data of interest:\n",
      "        t =    -849.61 ...    1050.78 ms\n",
      "        0 CTF compensation matrices available\n",
      "Adding metadata with 15 columns\n",
      "2902 matching events found\n",
      "No baseline correction applied\n",
      "0 projection items activated\n"
     ]
    }
   ],
   "source": [
    "import sys\n",
    "sys.path.append('/Volumes/shares/FGB-ETP-DVM/dvm/DvM') # path to DvM package\n",
    "\n",
    "from eeg_analyses.ERP import * \n",
    "\n",
    "# set project_folder\n",
    "project_folder = '/Volumes/shares/FGB-ETP-DVM/dvm_projects/dist_decode' \n",
    "os.chdir(project_folder)\n",
    "\n",
    "# read in preprocessed data\n",
    "sj = 1\n",
    "df, epochs = FolderStructure().load_processed_eeg(\n",
    "                                        sj,'ses-1_main','main',None)"
   ]
  },
  {
   "cell_type": "code",
   "execution_count": 25,
   "metadata": {},
   "outputs": [
    {
     "name": "stdout",
     "output_type": "stream",
     "text": [
      "Setting up low-pass filter at 30 Hz\n",
      "\n",
      "FIR filter parameters\n",
      "---------------------\n",
      "Designing a one-pass, zero-phase, non-causal lowpass filter:\n",
      "- Windowed time-domain design (firwin) method\n",
      "- Hamming window with 0.0194 passband ripple and 53 dB stopband attenuation\n",
      "- Upper passband edge: 30.00 Hz\n",
      "- Upper transition bandwidth: 7.50 Hz (-6 dB cutoff frequency: 33.75 Hz)\n",
      "- Filter length: 227 samples (0.443 sec)\n",
      "\n"
     ]
    },
    {
     "name": "stderr",
     "output_type": "stream",
     "text": [
      "[Parallel(n_jobs=1)]: Using backend SequentialBackend with 1 concurrent workers.\n",
      "[Parallel(n_jobs=1)]: Done   1 out of   1 | elapsed:    0.0s remaining:    0.0s\n",
      "[Parallel(n_jobs=1)]: Done   2 out of   2 | elapsed:    0.0s remaining:    0.0s\n",
      "[Parallel(n_jobs=1)]: Done   3 out of   3 | elapsed:    0.0s remaining:    0.0s\n",
      "[Parallel(n_jobs=1)]: Done   4 out of   4 | elapsed:    0.0s remaining:    0.0s\n",
      "[Parallel(n_jobs=1)]: Done 185728 out of 185728 | elapsed:   39.4s finished\n"
     ]
    }
   ],
   "source": [
    "# create ERP object\n",
    "erp_o = ERP(sj,epochs,df,'targets',baseline=(-0.1,0),l_filter=None,\n",
    "            h_filter=30,downsample=None)"
   ]
  },
  {
   "cell_type": "code",
   "execution_count": 26,
   "metadata": {},
   "outputs": [],
   "source": [
    "# set whether target was at high or low distractor probqability location\n",
    "df.loc[df.target_loc == 6,'target_prob'] = 'high'\n",
    "df.loc[df.target_loc.isin([0,2,4]),'target_prob'] = 'low'"
   ]
  },
  {
   "cell_type": "code",
   "execution_count": 28,
   "metadata": {},
   "outputs": [
    {
     "name": "stdout",
     "output_type": "stream",
     "text": [
      "flipping topography\n",
      "Applying baseline correction (mode: mean)\n",
      "Applying baseline correction (mode: mean)\n"
     ]
    }
   ],
   "source": [
    "erp_o.lateralized_erp(pos_labels=dict(target_loc=[2, 6]),\n",
    "                    cnds=dict(target_prob=['high', 'low']), \n",
    "                    midline=dict(dist_loc=[0, 4]), \n",
    "                    topo_flip=dict(target_loc=[2]), \n",
    "                    time_oi=(-0.1, 0.45), name='target_n2pc')"
   ]
  },
  {
   "cell_type": "code",
   "execution_count": 30,
   "metadata": {},
   "outputs": [
    {
     "name": "stdout",
     "output_type": "stream",
     "text": [
      "Reading /Volumes/shares/FGB-ETP-DVM/dvm_projects/dist_decode/erp/targets/sj_1_high_target_n2pc-ave.fif ...\n",
      "    Found the data of interest:\n",
      "        t =     -99.61 ...     449.22 ms (0.03 × 1 + 0.01 × 4 + 0.01 × 10 + 0.03 × 13 + 0.01 × 15 + 0.01 × 16 + 0.03 × 18 + 0.01 × 20 + 0.01 × 27 + 0.01 × 29 + 0.01 × 30 + 0.01 × 31 + 0.01 × 36 + 0.01 × 39 + 0.01 × 40 + 0.03 × 46 + 0.01 × 50 + 0.03 × 57 + 0.01 × 61 + 0.01 × 66 + 0.01 × 67 + 0.01 × 68 + 0.01 × 69 + 0.01 × 70 + 0.01 × 72 + 0.01 × 73 + 0.03 × 75 + 0.01 × 78 + 0.01 × 83 + 0.01 × 90 + 0.01 × 99 + 0.03 × 102 + 0.01 × 105 + 0.01 × 107 + 0.01 × 119 + 0.01 × 125 + 0.01 × 126 + 0.01 × 136 + 0.03 × 137 + 0.01 × 138 + 0.01 × 141 + 0.01 × 142 + 0.03 × 143 + 0.01 × 145 + 0.01 × 149 + 0.01 × 150 + 0.03 × 156 + 0.01 × 163 + 0.01 × 165 + 0.01 × 172 + 0.01 × 176 + 0.03 × 193 + 0.01 × 198 + 0.03 × 201 + 0.01 × 202 + 0.01 × 207 + 0.01 × 208 + 0.01 × 212 + 0.01 × 216 + 0.03 × 223 + 0.01 × 225 + 0.01 × 228 + 0.01 × 231 + 0.01 × 235 + 0.01 × 237 + 0.01 × 239 + 0.01 × 246)\n",
      "        0 CTF compensation matrices available\n",
      "        nave = 80 - aspect type = 100\n",
      "No projector specified for this dataset. Please consider the method self.add_proj.\n",
      "Loaded Evoked data is baseline-corrected (baseline: [-0.1, 0] sec)\n",
      "Reading /Volumes/shares/FGB-ETP-DVM/dvm_projects/dist_decode/erp/targets/sj_1_low_target_n2pc-ave.fif ...\n",
      "    Found the data of interest:\n",
      "        t =     -99.61 ...     449.22 ms (0.01 × 1 + 0.03 × 5 + 0.01 × 7 + 0.01 × 8 + 0.01 × 13 + 0.03 × 14 + 0.03 × 22 + 0.01 × 23 + 0.01 × 24 + 0.01 × 27 + 0.01 × 28 + 0.01 × 29 + 0.01 × 42 + 0.01 × 47 + 0.01 × 49 + 0.01 × 50 + 0.01 × 51 + 0.01 × 53 + 0.01 × 56 + 0.01 × 59 + 0.01 × 60 + 0.01 × 63 + 0.01 × 65 + 0.01 × 68 + 0.01 × 74 + 0.01 × 78 + 0.03 × 80 + 0.01 × 81 + 0.01 × 88 + 0.01 × 94 + 0.01 × 96 + 0.01 × 100 + 0.01 × 101 + 0.01 × 103 + 0.01 × 106 + 0.03 × 107 + 0.01 × 110 + 0.01 × 112 + 0.01 × 113 + 0.01 × 120 + 0.01 × 122 + 0.01 × 125 + 0.01 × 129 + 0.01 × 135 + 0.01 × 143 + 0.03 × 155 + 0.01 × 156 + 0.01 × 157 + 0.01 × 161 + 0.01 × 173 + 0.01 × 176 + 0.01 × 179 + 0.01 × 187 + 0.01 × 200 + 0.01 × 203 + 0.01 × 204 + 0.01 × 205 + 0.01 × 206 + 0.01 × 209 + 0.03 × 211 + 0.01 × 215 + 0.01 × 217 + 0.01 × 219 + 0.01 × 220 + 0.01 × 222 + 0.01 × 229 + 0.01 × 234 + 0.01 × 236 + 0.01 × 238 + 0.03 × 239 + 0.01 × 240 + 0.01 × 244)\n",
      "        0 CTF compensation matrices available\n",
      "        nave = 80 - aspect type = 100\n",
      "No projector specified for this dataset. Please consider the method self.add_proj.\n",
      "Loaded Evoked data is baseline-corrected (baseline: [-0.1, 0] sec)\n"
     ]
    }
   ],
   "source": [
    "erp_c, times = FolderStructure().read_erps(erp_folder='targets', erp_name='target_n2pc',\n",
    "                                          cnds=['high', 'low'], sjs='all')"
   ]
  },
  {
   "cell_type": "code",
   "execution_count": 35,
   "metadata": {},
   "outputs": [
    {
     "data": {
      "image/png": "[encoded data removed]",
      "text/plain": [
       "<Figure size 432x288 with 1 Axes>"
      ]
     },
     "metadata": {
      "needs_background": "light"
     },
     "output_type": "display_data"
    }
   ],
   "source": [
    "from visuals.plot_results import *\n",
    "plot_erp_time_course(erp_c,times*1000,[['PO7'], ['PO8']],\n",
    "                    contra_ipsi='d_wave',colors=['r','g'],\n",
    "                    show_SE=False)"
   ]
  },
  {
   "cell_type": "code",
   "execution_count": 22,
   "metadata": {},
   "outputs": [
    {
     "data": {
      "text/plain": [
       "{'Fp1': 'Fp2',\n",
       " 'AF7': 'AF8',\n",
       " 'AF3': 'AF4',\n",
       " 'F1': 'F2',\n",
       " 'F3': 'F4',\n",
       " 'F5': 'F6',\n",
       " 'F7': 'F8',\n",
       " 'FT7': 'FT8',\n",
       " 'FC5': 'FC6',\n",
       " 'FC3': 'FC4',\n",
       " 'FC1': 'FC2',\n",
       " 'C1': 'C2',\n",
       " 'C3': 'C4',\n",
       " 'C5': 'C6',\n",
       " 'T7': 'T8',\n",
       " 'TP7': 'TP8',\n",
       " 'CP5': 'CP6',\n",
       " 'CP3': 'CP4',\n",
       " 'CP1': 'CP2',\n",
       " 'P1': 'P2',\n",
       " 'P3': 'P4',\n",
       " 'P5': 'P6',\n",
       " 'P7': 'P8',\n",
       " 'P9': 'P10',\n",
       " 'PO7': 'PO8',\n",
       " 'PO3': 'PO4',\n",
       " 'O1': 'O2'}"
      ]
     },
     "execution_count": 22,
     "metadata": {},
     "output_type": "execute_result"
    }
   ],
   "source": [
    "epochs.ch_names\n",
    "flip_dict = {}\n",
    "for elec in epochs.ch_names:\n",
    "    if elec[-1].isdigit():  \n",
    "        base_name = elec[:-1] \n",
    "        number = int(elec[-1])  \n",
    "        if number % 2 == 1: \n",
    "            mirror_elec = f\"{base_name}{number + 1}\"  \n",
    "            if mirror_elec in epochs.ch_names:  \n",
    "                flip_dict[elec] = mirror_elec\n",
    "flip_dict"
   ]
  },
  {
   "cell_type": "markdown",
   "metadata": {},
   "source": [
    "# "
   ]
  }
 ],
 "metadata": {
  "kernelspec": {
   "display_name": "dvm",
   "language": "python",
   "name": "python3"
  },
  "language_info": {
   "codemirror_mode": {
    "name": "ipython",
    "version": 3
   },
   "file_extension": ".py",
   "mimetype": "text/x-python",
   "name": "python",
   "nbconvert_exporter": "python",
   "pygments_lexer": "ipython3",
   "version": "3.7.13"
  }
 },
 "nbformat": 4,
 "nbformat_minor": 2
}
